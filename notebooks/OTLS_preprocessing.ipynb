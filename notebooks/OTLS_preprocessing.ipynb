{
 "cells": [
  {
   "cell_type": "markdown",
   "metadata": {},
   "source": [
    "<h4>OTLS raw data processing script</h4>\n",
    "\n",
    "In this script, we load the raw data h5 file as downloaded from [PCa_Bx_3Dpathology](https://www.cancerimagingarchive.net/collection/pca_bx_3dpathology/).\n",
    "This script does the following for a given OTLS sample.\n",
    "- Open 2X downsampled OTLS (1um/voxel)\n",
    "- Assign nuclear channels to channel 1 and 2, and eosin channel to channel 3\n",
    "- Match the maximum intensity between nuclear and eosin channels\n",
    "- Save each 2D OTLS slice as its own .tiff file."
   ]
  },
  {
   "cell_type": "code",
   "execution_count": 12,
   "metadata": {},
   "outputs": [],
   "source": [
    "import numpy as np\n",
    "import os\n",
    "import h5py\n",
    "from PIL import Image\n",
    "import imageio\n",
    "from tqdm import tqdm"
   ]
  },
  {
   "cell_type": "code",
   "execution_count": 6,
   "metadata": {},
   "outputs": [],
   "source": [
    "def cat_str(s):\n",
    "    # Helper function such that 2D tissue image always has the 4-digit ID (helps with ordering)\n",
    "    # e.g., 0001, 0010\n",
    "    gap = 4 - len(s)\n",
    "    suffix = '0'*gap + s\n",
    "    return suffix"
   ]
  },
  {
   "cell_type": "code",
   "execution_count": 7,
   "metadata": {},
   "outputs": [],
   "source": [
    "def scale(eosin, nuclear_max):\n",
    "    # Scale the maximum of eosin channel to that of nuclear channel\n",
    "    eosin_max = np.percentile(eosin, 99)\n",
    "    \n",
    "    eosin_new = nuclear_max / eosin_max * eosin\n",
    "    eosin_new = eosin_new.astype(np.uint16)\n",
    "    \n",
    "    return eosin_new"
   ]
  },
  {
   "cell_type": "code",
   "execution_count": 11,
   "metadata": {},
   "outputs": [
    {
     "name": "stdout",
     "output_type": "stream",
     "text": [
      "Finding nuclear_max...\n",
      "Finding eosin_max...\n"
     ]
    }
   ],
   "source": [
    "fname = '/path/to/parent_dir'\n",
    "fpath = os.path.join(fname, 'data-f0.h5')\n",
    "\n",
    "nuclear_min=100 # This is the floor intensity value for this OTLS dataset\n",
    "\n",
    "with h5py.File(fpath) as f:\n",
    "    nuclear_raw = f['t00000']['s00']['1']['cells'][()]  # 's00' accesses nuclear channel, '1' accesses 2x downsampled version (1 um /pixel)\n",
    "    nuclear = np.array(nuclear_raw).transpose(1, 0, 2).astype(np.uint16)\n",
    "    \n",
    "    eosin_raw = np.array(f['t00000']['s01']['1']['cells'][()]) # 's01' accesses eosin channel, '1' accesses 2x downsampled version (1 um /pixel)\n",
    "    eosin = np.array(eosin_raw).transpose(1, 0, 2).astype(np.uint16)\n",
    "\n",
    "    del nuclear_raw, eosin_raw\n",
    "\n",
    "print(\"Finding nuclear_max...\")\n",
    "nuclear_max = np.percentile(nuclear, 99)\n",
    "\n",
    "print(\"\\nFinding eosin_max...\")\n",
    "eosin_new = scale(eosin, nuclear_max)\n",
    "img_new = np.stack([nuclear, nuclear, eosin_new], axis=-1) # img_new (depth, width, hieght, channel)\n",
    "\n",
    "print(\"\\nSaving 2D image tiff stack...\")\n",
    "for idx in tqdm(range(len(img_new))):\n",
    "    basename_new = cat_str(str(idx)) + '.tiff'    \n",
    "    fname_new = os.path.join(fname, basename_new)\n",
    "    imageio.imwrite(fname_new, img_new[idx])"
   ]
  },
  {
   "cell_type": "markdown",
   "metadata": {},
   "source": []
  }
 ],
 "metadata": {
  "kernelspec": {
   "display_name": "hest",
   "language": "python",
   "name": "python3"
  },
  "language_info": {
   "codemirror_mode": {
    "name": "ipython",
    "version": 3
   },
   "file_extension": ".py",
   "mimetype": "text/x-python",
   "name": "python",
   "nbconvert_exporter": "python",
   "pygments_lexer": "ipython3",
   "version": "3.9.12"
  }
 },
 "nbformat": 4,
 "nbformat_minor": 2
}
